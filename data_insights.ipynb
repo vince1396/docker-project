{
 "cells": [
  {
   "cell_type": "markdown",
   "source": [
    "# Réservations d'hôtels\n",
    "\n",
    "Ce dataset fournit des données sur des réservations d'hôtels, telles que les dates d'arrivée et de départ, le nombre de\n",
    "nuits passées, le nombre de clients, les annulations etc...\n",
    "L'objectif ici est de construire un modèle d'apprentissage machine capable de prédire les probabilités d'une annulation\n",
    "pour une commande donnée."
   ],
   "metadata": {
    "collapsed": false,
    "pycharm": {
     "name": "#%% md\n",
     "is_executing": true
    }
   }
  },
  {
   "cell_type": "markdown",
   "source": [
    "### Importation des bibliothèques"
   ],
   "metadata": {
    "collapsed": false,
    "pycharm": {
     "name": "#%% md\n"
    }
   }
  },
  {
   "cell_type": "code",
   "execution_count": 225,
   "outputs": [],
   "source": [
    "import pandas as pd\n",
    "import seaborn as sns; sns.set()\n",
    "import numpy as np\n",
    "import matplotlib.pyplot as plt\n",
    "\n",
    "from sklearn.preprocessing import LabelEncoder as LE\n",
    "from sklearn.model_selection import train_test_split\n",
    "from sklearn.decomposition import PCA\n",
    "from sklearn.pipeline import Pipeline\n",
    "from sklearn.model_selection import GridSearchCV\n",
    "\n",
    "from sklearn.neighbors import KNeighborsClassifier as KNN\n",
    "from sklearn.svm import LinearSVC as LSVC\n",
    "from sklearn.svm import SVC\n",
    "\n",
    "from sklearn.metrics import confusion_matrix\n",
    "from sklearn.metrics import roc_curve, auc, plot_roc_curve"
   ],
   "metadata": {
    "collapsed": false,
    "pycharm": {
     "name": "#%%\n"
    }
   }
  },
  {
   "cell_type": "markdown",
   "source": [
    "## 1 - Exploration des données"
   ],
   "metadata": {
    "collapsed": false
   }
  },
  {
   "cell_type": "markdown",
   "source": [
    "### Importation du dataset\n",
    "\n",
    "On affecte le dataset à une variable de type DataFrame. </br>\n",
    "On peut voir que le DataFrame contient 119390 lignes pour 32 colonnes."
   ],
   "metadata": {
    "collapsed": false,
    "pycharm": {
     "name": "#%% md\n"
    }
   }
  },
  {
   "cell_type": "code",
   "execution_count": 226,
   "outputs": [
    {
     "data": {
      "text/plain": "(119390, 32)"
     },
     "execution_count": 226,
     "metadata": {},
     "output_type": "execute_result"
    }
   ],
   "source": [
    "df = pd.read_csv(\"./hotel_bookings.csv\")\n",
    "df.shape"
   ],
   "metadata": {
    "collapsed": false,
    "pycharm": {
     "name": "#%%\n"
    }
   }
  },
  {
   "cell_type": "markdown",
   "source": [
    "### Affichage des informations du DataFrame\n",
    "\n",
    "On observe ici une description des informations du DataFrame. </br>\n",
    "Le type de chaque colonne est affiché ainsi que le nombre d'occurences de valeurs non nulle.\n",
    "Le total de chaque type présent est aussi décrit."
   ],
   "metadata": {
    "collapsed": false,
    "pycharm": {
     "name": "#%% md\n"
    }
   }
  },
  {
   "cell_type": "code",
   "execution_count": 227,
   "outputs": [
    {
     "name": "stdout",
     "output_type": "stream",
     "text": [
      "<class 'pandas.core.frame.DataFrame'>\n",
      "RangeIndex: 119390 entries, 0 to 119389\n",
      "Data columns (total 32 columns):\n",
      " #   Column                          Non-Null Count   Dtype  \n",
      "---  ------                          --------------   -----  \n",
      " 0   hotel                           119390 non-null  object \n",
      " 1   is_canceled                     119390 non-null  int64  \n",
      " 2   lead_time                       119390 non-null  int64  \n",
      " 3   arrival_date_year               119390 non-null  int64  \n",
      " 4   arrival_date_month              119390 non-null  object \n",
      " 5   arrival_date_week_number        119390 non-null  int64  \n",
      " 6   arrival_date_day_of_month       119390 non-null  int64  \n",
      " 7   stays_in_weekend_nights         119390 non-null  int64  \n",
      " 8   stays_in_week_nights            119390 non-null  int64  \n",
      " 9   adults                          119390 non-null  int64  \n",
      " 10  children                        119386 non-null  float64\n",
      " 11  babies                          119390 non-null  int64  \n",
      " 12  meal                            119390 non-null  object \n",
      " 13  country                         118902 non-null  object \n",
      " 14  market_segment                  119390 non-null  object \n",
      " 15  distribution_channel            119390 non-null  object \n",
      " 16  is_repeated_guest               119390 non-null  int64  \n",
      " 17  previous_cancellations          119390 non-null  int64  \n",
      " 18  previous_bookings_not_canceled  119390 non-null  int64  \n",
      " 19  reserved_room_type              119390 non-null  object \n",
      " 20  assigned_room_type              119390 non-null  object \n",
      " 21  booking_changes                 119390 non-null  int64  \n",
      " 22  deposit_type                    119390 non-null  object \n",
      " 23  agent                           103050 non-null  float64\n",
      " 24  company                         6797 non-null    float64\n",
      " 25  days_in_waiting_list            119390 non-null  int64  \n",
      " 26  customer_type                   119390 non-null  object \n",
      " 27  adr                             119390 non-null  float64\n",
      " 28  required_car_parking_spaces     119390 non-null  int64  \n",
      " 29  total_of_special_requests       119390 non-null  int64  \n",
      " 30  reservation_status              119390 non-null  object \n",
      " 31  reservation_status_date         119390 non-null  object \n",
      "dtypes: float64(4), int64(16), object(12)\n",
      "memory usage: 29.1+ MB\n"
     ]
    }
   ],
   "source": [
    "df.info()"
   ],
   "metadata": {
    "collapsed": false,
    "pycharm": {
     "name": "#%%\n"
    }
   }
  },
  {
   "cell_type": "markdown",
   "source": [
    "### Statistiques descriptives\n",
    "\n",
    "Ce tableau affiche pour chaque colonne le total d'occurences, la moyenne, la médiane, les valeurs minimum et maximum\n",
    "ainsi que les quartiles."
   ],
   "metadata": {
    "collapsed": false,
    "pycharm": {
     "name": "#%% md\n"
    }
   }
  },
  {
   "cell_type": "code",
   "execution_count": 228,
   "outputs": [
    {
     "data": {
      "text/plain": "         is_canceled      lead_time  arrival_date_year  \\\ncount  119390.000000  119390.000000      119390.000000   \nmean        0.370416     104.011416        2016.156554   \nstd         0.482918     106.863097           0.707476   \nmin         0.000000       0.000000        2015.000000   \n25%         0.000000      18.000000        2016.000000   \n50%         0.000000      69.000000        2016.000000   \n75%         1.000000     160.000000        2017.000000   \nmax         1.000000     737.000000        2017.000000   \n\n       arrival_date_week_number  arrival_date_day_of_month  \\\ncount             119390.000000              119390.000000   \nmean                  27.165173                  15.798241   \nstd                   13.605138                   8.780829   \nmin                    1.000000                   1.000000   \n25%                   16.000000                   8.000000   \n50%                   28.000000                  16.000000   \n75%                   38.000000                  23.000000   \nmax                   53.000000                  31.000000   \n\n       stays_in_weekend_nights  stays_in_week_nights         adults  \\\ncount            119390.000000         119390.000000  119390.000000   \nmean                  0.927599              2.500302       1.856403   \nstd                   0.998613              1.908286       0.579261   \nmin                   0.000000              0.000000       0.000000   \n25%                   0.000000              1.000000       2.000000   \n50%                   1.000000              2.000000       2.000000   \n75%                   2.000000              3.000000       2.000000   \nmax                  19.000000             50.000000      55.000000   \n\n            children         babies  is_repeated_guest  \\\ncount  119386.000000  119390.000000      119390.000000   \nmean        0.103890       0.007949           0.031912   \nstd         0.398561       0.097436           0.175767   \nmin         0.000000       0.000000           0.000000   \n25%         0.000000       0.000000           0.000000   \n50%         0.000000       0.000000           0.000000   \n75%         0.000000       0.000000           0.000000   \nmax        10.000000      10.000000           1.000000   \n\n       previous_cancellations  previous_bookings_not_canceled  \\\ncount           119390.000000                   119390.000000   \nmean                 0.087118                        0.137097   \nstd                  0.844336                        1.497437   \nmin                  0.000000                        0.000000   \n25%                  0.000000                        0.000000   \n50%                  0.000000                        0.000000   \n75%                  0.000000                        0.000000   \nmax                 26.000000                       72.000000   \n\n       booking_changes          agent      company  days_in_waiting_list  \\\ncount    119390.000000  103050.000000  6797.000000         119390.000000   \nmean          0.221124      86.693382   189.266735              2.321149   \nstd           0.652306     110.774548   131.655015             17.594721   \nmin           0.000000       1.000000     6.000000              0.000000   \n25%           0.000000       9.000000    62.000000              0.000000   \n50%           0.000000      14.000000   179.000000              0.000000   \n75%           0.000000     229.000000   270.000000              0.000000   \nmax          21.000000     535.000000   543.000000            391.000000   \n\n                 adr  required_car_parking_spaces  total_of_special_requests  \ncount  119390.000000                119390.000000              119390.000000  \nmean      101.831122                     0.062518                   0.571363  \nstd        50.535790                     0.245291                   0.792798  \nmin        -6.380000                     0.000000                   0.000000  \n25%        69.290000                     0.000000                   0.000000  \n50%        94.575000                     0.000000                   0.000000  \n75%       126.000000                     0.000000                   1.000000  \nmax      5400.000000                     8.000000                   5.000000  ",
      "text/html": "<div>\n<style scoped>\n    .dataframe tbody tr th:only-of-type {\n        vertical-align: middle;\n    }\n\n    .dataframe tbody tr th {\n        vertical-align: top;\n    }\n\n    .dataframe thead th {\n        text-align: right;\n    }\n</style>\n<table border=\"1\" class=\"dataframe\">\n  <thead>\n    <tr style=\"text-align: right;\">\n      <th></th>\n      <th>is_canceled</th>\n      <th>lead_time</th>\n      <th>arrival_date_year</th>\n      <th>arrival_date_week_number</th>\n      <th>arrival_date_day_of_month</th>\n      <th>stays_in_weekend_nights</th>\n      <th>stays_in_week_nights</th>\n      <th>adults</th>\n      <th>children</th>\n      <th>babies</th>\n      <th>is_repeated_guest</th>\n      <th>previous_cancellations</th>\n      <th>previous_bookings_not_canceled</th>\n      <th>booking_changes</th>\n      <th>agent</th>\n      <th>company</th>\n      <th>days_in_waiting_list</th>\n      <th>adr</th>\n      <th>required_car_parking_spaces</th>\n      <th>total_of_special_requests</th>\n    </tr>\n  </thead>\n  <tbody>\n    <tr>\n      <th>count</th>\n      <td>119390.000000</td>\n      <td>119390.000000</td>\n      <td>119390.000000</td>\n      <td>119390.000000</td>\n      <td>119390.000000</td>\n      <td>119390.000000</td>\n      <td>119390.000000</td>\n      <td>119390.000000</td>\n      <td>119386.000000</td>\n      <td>119390.000000</td>\n      <td>119390.000000</td>\n      <td>119390.000000</td>\n      <td>119390.000000</td>\n      <td>119390.000000</td>\n      <td>103050.000000</td>\n      <td>6797.000000</td>\n      <td>119390.000000</td>\n      <td>119390.000000</td>\n      <td>119390.000000</td>\n      <td>119390.000000</td>\n    </tr>\n    <tr>\n      <th>mean</th>\n      <td>0.370416</td>\n      <td>104.011416</td>\n      <td>2016.156554</td>\n      <td>27.165173</td>\n      <td>15.798241</td>\n      <td>0.927599</td>\n      <td>2.500302</td>\n      <td>1.856403</td>\n      <td>0.103890</td>\n      <td>0.007949</td>\n      <td>0.031912</td>\n      <td>0.087118</td>\n      <td>0.137097</td>\n      <td>0.221124</td>\n      <td>86.693382</td>\n      <td>189.266735</td>\n      <td>2.321149</td>\n      <td>101.831122</td>\n      <td>0.062518</td>\n      <td>0.571363</td>\n    </tr>\n    <tr>\n      <th>std</th>\n      <td>0.482918</td>\n      <td>106.863097</td>\n      <td>0.707476</td>\n      <td>13.605138</td>\n      <td>8.780829</td>\n      <td>0.998613</td>\n      <td>1.908286</td>\n      <td>0.579261</td>\n      <td>0.398561</td>\n      <td>0.097436</td>\n      <td>0.175767</td>\n      <td>0.844336</td>\n      <td>1.497437</td>\n      <td>0.652306</td>\n      <td>110.774548</td>\n      <td>131.655015</td>\n      <td>17.594721</td>\n      <td>50.535790</td>\n      <td>0.245291</td>\n      <td>0.792798</td>\n    </tr>\n    <tr>\n      <th>min</th>\n      <td>0.000000</td>\n      <td>0.000000</td>\n      <td>2015.000000</td>\n      <td>1.000000</td>\n      <td>1.000000</td>\n      <td>0.000000</td>\n      <td>0.000000</td>\n      <td>0.000000</td>\n      <td>0.000000</td>\n      <td>0.000000</td>\n      <td>0.000000</td>\n      <td>0.000000</td>\n      <td>0.000000</td>\n      <td>0.000000</td>\n      <td>1.000000</td>\n      <td>6.000000</td>\n      <td>0.000000</td>\n      <td>-6.380000</td>\n      <td>0.000000</td>\n      <td>0.000000</td>\n    </tr>\n    <tr>\n      <th>25%</th>\n      <td>0.000000</td>\n      <td>18.000000</td>\n      <td>2016.000000</td>\n      <td>16.000000</td>\n      <td>8.000000</td>\n      <td>0.000000</td>\n      <td>1.000000</td>\n      <td>2.000000</td>\n      <td>0.000000</td>\n      <td>0.000000</td>\n      <td>0.000000</td>\n      <td>0.000000</td>\n      <td>0.000000</td>\n      <td>0.000000</td>\n      <td>9.000000</td>\n      <td>62.000000</td>\n      <td>0.000000</td>\n      <td>69.290000</td>\n      <td>0.000000</td>\n      <td>0.000000</td>\n    </tr>\n    <tr>\n      <th>50%</th>\n      <td>0.000000</td>\n      <td>69.000000</td>\n      <td>2016.000000</td>\n      <td>28.000000</td>\n      <td>16.000000</td>\n      <td>1.000000</td>\n      <td>2.000000</td>\n      <td>2.000000</td>\n      <td>0.000000</td>\n      <td>0.000000</td>\n      <td>0.000000</td>\n      <td>0.000000</td>\n      <td>0.000000</td>\n      <td>0.000000</td>\n      <td>14.000000</td>\n      <td>179.000000</td>\n      <td>0.000000</td>\n      <td>94.575000</td>\n      <td>0.000000</td>\n      <td>0.000000</td>\n    </tr>\n    <tr>\n      <th>75%</th>\n      <td>1.000000</td>\n      <td>160.000000</td>\n      <td>2017.000000</td>\n      <td>38.000000</td>\n      <td>23.000000</td>\n      <td>2.000000</td>\n      <td>3.000000</td>\n      <td>2.000000</td>\n      <td>0.000000</td>\n      <td>0.000000</td>\n      <td>0.000000</td>\n      <td>0.000000</td>\n      <td>0.000000</td>\n      <td>0.000000</td>\n      <td>229.000000</td>\n      <td>270.000000</td>\n      <td>0.000000</td>\n      <td>126.000000</td>\n      <td>0.000000</td>\n      <td>1.000000</td>\n    </tr>\n    <tr>\n      <th>max</th>\n      <td>1.000000</td>\n      <td>737.000000</td>\n      <td>2017.000000</td>\n      <td>53.000000</td>\n      <td>31.000000</td>\n      <td>19.000000</td>\n      <td>50.000000</td>\n      <td>55.000000</td>\n      <td>10.000000</td>\n      <td>10.000000</td>\n      <td>1.000000</td>\n      <td>26.000000</td>\n      <td>72.000000</td>\n      <td>21.000000</td>\n      <td>535.000000</td>\n      <td>543.000000</td>\n      <td>391.000000</td>\n      <td>5400.000000</td>\n      <td>8.000000</td>\n      <td>5.000000</td>\n    </tr>\n  </tbody>\n</table>\n</div>"
     },
     "execution_count": 228,
     "metadata": {},
     "output_type": "execute_result"
    }
   ],
   "source": [
    "df.describe()"
   ],
   "metadata": {
    "collapsed": false,
    "pycharm": {
     "name": "#%%\n"
    }
   }
  },
  {
   "cell_type": "markdown",
   "source": [
    "## 2 - Dataviz"
   ],
   "metadata": {
    "collapsed": false,
    "pycharm": {
     "name": "#%% md\n"
    }
   }
  },
  {
   "cell_type": "code",
   "execution_count": 229,
   "outputs": [
    {
     "data": {
      "text/plain": "<Figure size 432x288 with 1 Axes>",
      "image/png": "[encoded data removed]"
     },
     "metadata": {},
     "output_type": "display_data"
    }
   ],
   "source": [
    "sns.set(style = \"darkgrid\")\n",
    "plt.title(\"Canceled or not\", fontdict = {'fontsize': 20})\n",
    "ax = sns.countplot(x = \"is_canceled\", hue = 'hotel', data = df)"
   ],
   "metadata": {
    "collapsed": false,
    "pycharm": {
     "name": "#%%\n"
    }
   }
  },
  {
   "cell_type": "code",
   "execution_count": 230,
   "outputs": [
    {
     "data": {
      "text/plain": "<AxesSubplot:xlabel='hotel', ylabel='arrival_date_week_number'>"
     },
     "execution_count": 230,
     "metadata": {},
     "output_type": "execute_result"
    },
    {
     "data": {
      "text/plain": "<Figure size 1080x720 with 1 Axes>",
      "image/png": "[encoded data removed]"
     },
     "metadata": {},
     "output_type": "display_data"
    }
   ],
   "source": [
    "plt.figure(figsize=(15,10))\n",
    "sns.boxplot(y=\"arrival_date_week_number\", x=\"hotel\", data=df, hue=\"is_canceled\", palette='Set1')"
   ],
   "metadata": {
    "collapsed": false,
    "pycharm": {
     "name": "#%%\n"
    }
   }
  },
  {
   "cell_type": "markdown",
   "source": [
    "### Heatmap de corrélation\n",
    "\n",
    "La heatmap de corrélation permet de représenter la corrélation pour chaque paire de colonnes à l'aide d'un code couleur.\n",
    "On observe ici aucune corrélation particulière entre les données."
   ],
   "metadata": {
    "collapsed": false,
    "pycharm": {
     "name": "#%% md\n"
    }
   }
  },
  {
   "cell_type": "code",
   "execution_count": 231,
   "outputs": [
    {
     "data": {
      "text/plain": "<AxesSubplot:>"
     },
     "execution_count": 231,
     "metadata": {},
     "output_type": "execute_result"
    },
    {
     "data": {
      "text/plain": "<Figure size 432x288 with 2 Axes>",
      "image/png": "[encoded data removed]"
     },
     "metadata": {},
     "output_type": "display_data"
    }
   ],
   "source": [
    "corr = df.corr()\n",
    "sns.heatmap(corr)"
   ],
   "metadata": {
    "collapsed": false,
    "pycharm": {
     "name": "#%%\n"
    }
   }
  },
  {
   "cell_type": "code",
   "execution_count": 232,
   "outputs": [
    {
     "data": {
      "text/plain": "               hotel  is_canceled  lead_time  arrival_date_year  \\\n44244     City Hotel            0        164               2015   \n23291   Resort Hotel            0         82               2016   \n42520     City Hotel            0         55               2015   \n90941     City Hotel            0         11               2016   \n64779     City Hotel            1        615               2017   \n30114   Resort Hotel            0          4               2016   \n83278     City Hotel            0         53               2016   \n89752     City Hotel            0        119               2016   \n4739    Resort Hotel            0        169               2016   \n116464    City Hotel            0        191               2017   \n\n       arrival_date_month  arrival_date_week_number  \\\n44244             October                        40   \n23291               April                        16   \n42520           September                        37   \n90941                June                        25   \n64779               March                        11   \n30114            November                        47   \n83278             January                         5   \n89752                 May                        22   \n4739                March                        14   \n116464               July                        29   \n\n        arrival_date_day_of_month  stays_in_weekend_nights  \\\n44244                           2                        0   \n23291                          16                        2   \n42520                           6                        2   \n90941                          13                        1   \n64779                          16                        0   \n30114                          14                        1   \n83278                          24                        2   \n89752                          23                        1   \n4739                           31                        0   \n116464                         17                        1   \n\n        stays_in_week_nights  adults  ...  deposit_type  agent company  \\\n44244                      2       1  ...    No Deposit   19.0     NaN   \n23291                      3       2  ...    No Deposit  241.0     NaN   \n42520                      0       2  ...    No Deposit    1.0     NaN   \n90941                      0       1  ...    No Deposit   10.0     NaN   \n64779                      2       2  ...    Non Refund    1.0     NaN   \n30114                      0       1  ...    No Deposit  240.0     NaN   \n83278                      1       2  ...    No Deposit   28.0     NaN   \n89752                      2       1  ...    No Deposit   37.0     NaN   \n4739                       3       2  ...    Refundable    NaN   223.0   \n116464                     3       3  ...    No Deposit    9.0     NaN   \n\n       days_in_waiting_list    customer_type     adr  \\\n44244                     0  Transient-Party  100.00   \n23291                     0        Transient   73.76   \n42520                     0  Transient-Party   75.00   \n90941                     0        Transient   83.00   \n64779                     0        Transient   62.00   \n30114                     0        Transient   43.00   \n83278                     0        Transient   60.00   \n89752                     0  Transient-Party   90.00   \n4739                      0  Transient-Party   66.00   \n116464                    0        Transient  147.90   \n\n        required_car_parking_spaces  total_of_special_requests  \\\n44244                             0                          0   \n23291                             1                          1   \n42520                             0                          0   \n90941                             0                          0   \n64779                             0                          0   \n30114                             0                          2   \n83278                             0                          1   \n89752                             0                          1   \n4739                              0                          0   \n116464                            0                          1   \n\n        reservation_status reservation_status_date  \n44244            Check-Out              2015-10-04  \n23291            Check-Out              2016-04-21  \n42520            Check-Out              2015-09-08  \n90941            Check-Out              2016-06-14  \n64779             Canceled              2015-10-21  \n30114            Check-Out              2016-11-15  \n83278            Check-Out              2016-01-27  \n89752            Check-Out              2016-05-26  \n4739             Check-Out              2016-04-03  \n116464           Check-Out              2017-07-21  \n\n[10 rows x 32 columns]",
      "text/html": "<div>\n<style scoped>\n    .dataframe tbody tr th:only-of-type {\n        vertical-align: middle;\n    }\n\n    .dataframe tbody tr th {\n        vertical-align: top;\n    }\n\n    .dataframe thead th {\n        text-align: right;\n    }\n</style>\n<table border=\"1\" class=\"dataframe\">\n  <thead>\n    <tr style=\"text-align: right;\">\n      <th></th>\n      <th>hotel</th>\n      <th>is_canceled</th>\n      <th>lead_time</th>\n      <th>arrival_date_year</th>\n      <th>arrival_date_month</th>\n      <th>arrival_date_week_number</th>\n      <th>arrival_date_day_of_month</th>\n      <th>stays_in_weekend_nights</th>\n      <th>stays_in_week_nights</th>\n      <th>adults</th>\n      <th>...</th>\n      <th>deposit_type</th>\n      <th>agent</th>\n      <th>company</th>\n      <th>days_in_waiting_list</th>\n      <th>customer_type</th>\n      <th>adr</th>\n      <th>required_car_parking_spaces</th>\n      <th>total_of_special_requests</th>\n      <th>reservation_status</th>\n      <th>reservation_status_date</th>\n    </tr>\n  </thead>\n  <tbody>\n    <tr>\n      <th>44244</th>\n      <td>City Hotel</td>\n      <td>0</td>\n      <td>164</td>\n      <td>2015</td>\n      <td>October</td>\n      <td>40</td>\n      <td>2</td>\n      <td>0</td>\n      <td>2</td>\n      <td>1</td>\n      <td>...</td>\n      <td>No Deposit</td>\n      <td>19.0</td>\n      <td>NaN</td>\n      <td>0</td>\n      <td>Transient-Party</td>\n      <td>100.00</td>\n      <td>0</td>\n      <td>0</td>\n      <td>Check-Out</td>\n      <td>2015-10-04</td>\n    </tr>\n    <tr>\n      <th>23291</th>\n      <td>Resort Hotel</td>\n      <td>0</td>\n      <td>82</td>\n      <td>2016</td>\n      <td>April</td>\n      <td>16</td>\n      <td>16</td>\n      <td>2</td>\n      <td>3</td>\n      <td>2</td>\n      <td>...</td>\n      <td>No Deposit</td>\n      <td>241.0</td>\n      <td>NaN</td>\n      <td>0</td>\n      <td>Transient</td>\n      <td>73.76</td>\n      <td>1</td>\n      <td>1</td>\n      <td>Check-Out</td>\n      <td>2016-04-21</td>\n    </tr>\n    <tr>\n      <th>42520</th>\n      <td>City Hotel</td>\n      <td>0</td>\n      <td>55</td>\n      <td>2015</td>\n      <td>September</td>\n      <td>37</td>\n      <td>6</td>\n      <td>2</td>\n      <td>0</td>\n      <td>2</td>\n      <td>...</td>\n      <td>No Deposit</td>\n      <td>1.0</td>\n      <td>NaN</td>\n      <td>0</td>\n      <td>Transient-Party</td>\n      <td>75.00</td>\n      <td>0</td>\n      <td>0</td>\n      <td>Check-Out</td>\n      <td>2015-09-08</td>\n    </tr>\n    <tr>\n      <th>90941</th>\n      <td>City Hotel</td>\n      <td>0</td>\n      <td>11</td>\n      <td>2016</td>\n      <td>June</td>\n      <td>25</td>\n      <td>13</td>\n      <td>1</td>\n      <td>0</td>\n      <td>1</td>\n      <td>...</td>\n      <td>No Deposit</td>\n      <td>10.0</td>\n      <td>NaN</td>\n      <td>0</td>\n      <td>Transient</td>\n      <td>83.00</td>\n      <td>0</td>\n      <td>0</td>\n      <td>Check-Out</td>\n      <td>2016-06-14</td>\n    </tr>\n    <tr>\n      <th>64779</th>\n      <td>City Hotel</td>\n      <td>1</td>\n      <td>615</td>\n      <td>2017</td>\n      <td>March</td>\n      <td>11</td>\n      <td>16</td>\n      <td>0</td>\n      <td>2</td>\n      <td>2</td>\n      <td>...</td>\n      <td>Non Refund</td>\n      <td>1.0</td>\n      <td>NaN</td>\n      <td>0</td>\n      <td>Transient</td>\n      <td>62.00</td>\n      <td>0</td>\n      <td>0</td>\n      <td>Canceled</td>\n      <td>2015-10-21</td>\n    </tr>\n    <tr>\n      <th>30114</th>\n      <td>Resort Hotel</td>\n      <td>0</td>\n      <td>4</td>\n      <td>2016</td>\n      <td>November</td>\n      <td>47</td>\n      <td>14</td>\n      <td>1</td>\n      <td>0</td>\n      <td>1</td>\n      <td>...</td>\n      <td>No Deposit</td>\n      <td>240.0</td>\n      <td>NaN</td>\n      <td>0</td>\n      <td>Transient</td>\n      <td>43.00</td>\n      <td>0</td>\n      <td>2</td>\n      <td>Check-Out</td>\n      <td>2016-11-15</td>\n    </tr>\n    <tr>\n      <th>83278</th>\n      <td>City Hotel</td>\n      <td>0</td>\n      <td>53</td>\n      <td>2016</td>\n      <td>January</td>\n      <td>5</td>\n      <td>24</td>\n      <td>2</td>\n      <td>1</td>\n      <td>2</td>\n      <td>...</td>\n      <td>No Deposit</td>\n      <td>28.0</td>\n      <td>NaN</td>\n      <td>0</td>\n      <td>Transient</td>\n      <td>60.00</td>\n      <td>0</td>\n      <td>1</td>\n      <td>Check-Out</td>\n      <td>2016-01-27</td>\n    </tr>\n    <tr>\n      <th>89752</th>\n      <td>City Hotel</td>\n      <td>0</td>\n      <td>119</td>\n      <td>2016</td>\n      <td>May</td>\n      <td>22</td>\n      <td>23</td>\n      <td>1</td>\n      <td>2</td>\n      <td>1</td>\n      <td>...</td>\n      <td>No Deposit</td>\n      <td>37.0</td>\n      <td>NaN</td>\n      <td>0</td>\n      <td>Transient-Party</td>\n      <td>90.00</td>\n      <td>0</td>\n      <td>1</td>\n      <td>Check-Out</td>\n      <td>2016-05-26</td>\n    </tr>\n    <tr>\n      <th>4739</th>\n      <td>Resort Hotel</td>\n      <td>0</td>\n      <td>169</td>\n      <td>2016</td>\n      <td>March</td>\n      <td>14</td>\n      <td>31</td>\n      <td>0</td>\n      <td>3</td>\n      <td>2</td>\n      <td>...</td>\n      <td>Refundable</td>\n      <td>NaN</td>\n      <td>223.0</td>\n      <td>0</td>\n      <td>Transient-Party</td>\n      <td>66.00</td>\n      <td>0</td>\n      <td>0</td>\n      <td>Check-Out</td>\n      <td>2016-04-03</td>\n    </tr>\n    <tr>\n      <th>116464</th>\n      <td>City Hotel</td>\n      <td>0</td>\n      <td>191</td>\n      <td>2017</td>\n      <td>July</td>\n      <td>29</td>\n      <td>17</td>\n      <td>1</td>\n      <td>3</td>\n      <td>3</td>\n      <td>...</td>\n      <td>No Deposit</td>\n      <td>9.0</td>\n      <td>NaN</td>\n      <td>0</td>\n      <td>Transient</td>\n      <td>147.90</td>\n      <td>0</td>\n      <td>1</td>\n      <td>Check-Out</td>\n      <td>2017-07-21</td>\n    </tr>\n  </tbody>\n</table>\n<p>10 rows × 32 columns</p>\n</div>"
     },
     "execution_count": 232,
     "metadata": {},
     "output_type": "execute_result"
    }
   ],
   "source": [
    "# Un échantillon des données présentes dans le DataFrame\n",
    "df.sample(10)"
   ],
   "metadata": {
    "collapsed": false,
    "pycharm": {
     "name": "#%%\n"
    }
   }
  },
  {
   "cell_type": "markdown",
   "source": [
    "### Gestion des NA\n",
    "Affichage de la somme des valeurs nulles pour chaque colonnes"
   ],
   "metadata": {
    "collapsed": false,
    "pycharm": {
     "name": "#%% md\n"
    }
   }
  },
  {
   "cell_type": "code",
   "execution_count": 233,
   "outputs": [
    {
     "data": {
      "text/plain": "hotel                                  0\nis_canceled                            0\nlead_time                              0\narrival_date_year                      0\narrival_date_month                     0\narrival_date_week_number               0\narrival_date_day_of_month              0\nstays_in_weekend_nights                0\nstays_in_week_nights                   0\nadults                                 0\nchildren                               4\nbabies                                 0\nmeal                                   0\ncountry                              488\nmarket_segment                         0\ndistribution_channel                   0\nis_repeated_guest                      0\nprevious_cancellations                 0\nprevious_bookings_not_canceled         0\nreserved_room_type                     0\nassigned_room_type                     0\nbooking_changes                        0\ndeposit_type                           0\nagent                              16340\ncompany                           112593\ndays_in_waiting_list                   0\ncustomer_type                          0\nadr                                    0\nrequired_car_parking_spaces            0\ntotal_of_special_requests              0\nreservation_status                     0\nreservation_status_date                0\ndtype: int64"
     },
     "execution_count": 233,
     "metadata": {},
     "output_type": "execute_result"
    }
   ],
   "source": [
    "df.isna().sum()"
   ],
   "metadata": {
    "collapsed": false,
    "pycharm": {
     "name": "#%%\n"
    }
   }
  },
  {
   "cell_type": "markdown",
   "source": [
    "Calcul du ratio de valeurs nulles pour chaque colonnes"
   ],
   "metadata": {
    "collapsed": false,
    "pycharm": {
     "name": "#%% md\n"
    }
   }
  },
  {
   "cell_type": "code",
   "execution_count": 234,
   "outputs": [
    {
     "name": "stdout",
     "output_type": "stream",
     "text": [
      "Company null ratio : 94.30689337465449\n",
      "Agent null ratio : 13.686238378423655\n",
      "Country null ratio : 0.40874445095904177\n"
     ]
    }
   ],
   "source": [
    "ratio_company = (df['company'].isna().sum() / len(df)) * 100\n",
    "ratio_agent = (df['agent'].isna().sum() / len(df)) * 100\n",
    "ratio_country = (df['country'].isna().sum() / len(df)) * 100\n",
    "\n",
    "print(\"Company null ratio : \" + str(ratio_company) + \"\\n\" +\n",
    "      \"Agent null ratio : \" + str(ratio_agent) + \"\\n\" +\n",
    "      \"Country null ratio : \" + str(ratio_country))"
   ],
   "metadata": {
    "collapsed": false,
    "pycharm": {
     "name": "#%%\n"
    }
   }
  },
  {
   "cell_type": "markdown",
   "source": [
    "On observe que les colonnes company et agent ont un pourcentage important de valeurs nulles, c'est pourquoi\n",
    "nous allons les retirer du dataset"
   ],
   "metadata": {
    "collapsed": false,
    "pycharm": {
     "name": "#%% md\n"
    }
   }
  },
  {
   "cell_type": "code",
   "execution_count": 235,
   "outputs": [],
   "source": [
    "df = df.drop(columns=['company', 'agent'])"
   ],
   "metadata": {
    "collapsed": false,
    "pycharm": {
     "name": "#%%\n"
    }
   }
  },
  {
   "cell_type": "markdown",
   "source": [
    "On élimine ensuite les lignes contenant des valeurs nulles"
   ],
   "metadata": {
    "collapsed": false,
    "pycharm": {
     "name": "#%% md\n"
    }
   }
  },
  {
   "cell_type": "code",
   "execution_count": 236,
   "outputs": [
    {
     "data": {
      "text/plain": "(118898, 30)"
     },
     "execution_count": 236,
     "metadata": {},
     "output_type": "execute_result"
    }
   ],
   "source": [
    "df = df.dropna()\n",
    "df.shape"
   ],
   "metadata": {
    "collapsed": false,
    "pycharm": {
     "name": "#%%\n"
    }
   }
  },
  {
   "cell_type": "markdown",
   "source": [
    "On revérifie la présence de valeurs nulles dans le DataFrame. On voit qu'il n'en reste aucune"
   ],
   "metadata": {
    "collapsed": false,
    "pycharm": {
     "name": "#%% md\n"
    }
   }
  },
  {
   "cell_type": "code",
   "execution_count": 237,
   "outputs": [
    {
     "data": {
      "text/plain": "hotel                             0\nis_canceled                       0\nlead_time                         0\narrival_date_year                 0\narrival_date_month                0\narrival_date_week_number          0\narrival_date_day_of_month         0\nstays_in_weekend_nights           0\nstays_in_week_nights              0\nadults                            0\nchildren                          0\nbabies                            0\nmeal                              0\ncountry                           0\nmarket_segment                    0\ndistribution_channel              0\nis_repeated_guest                 0\nprevious_cancellations            0\nprevious_bookings_not_canceled    0\nreserved_room_type                0\nassigned_room_type                0\nbooking_changes                   0\ndeposit_type                      0\ndays_in_waiting_list              0\ncustomer_type                     0\nadr                               0\nrequired_car_parking_spaces       0\ntotal_of_special_requests         0\nreservation_status                0\nreservation_status_date           0\ndtype: int64"
     },
     "execution_count": 237,
     "metadata": {},
     "output_type": "execute_result"
    }
   ],
   "source": [
    "df.isna().sum()"
   ],
   "metadata": {
    "collapsed": false,
    "pycharm": {
     "name": "#%%\n"
    }
   }
  },
  {
   "cell_type": "code",
   "execution_count": 238,
   "outputs": [
    {
     "name": "stdout",
     "output_type": "stream",
     "text": [
      "<class 'pandas.core.frame.DataFrame'>\n",
      "Int64Index: 118898 entries, 0 to 119389\n",
      "Data columns (total 30 columns):\n",
      " #   Column                          Non-Null Count   Dtype  \n",
      "---  ------                          --------------   -----  \n",
      " 0   hotel                           118898 non-null  object \n",
      " 1   is_canceled                     118898 non-null  int64  \n",
      " 2   lead_time                       118898 non-null  int64  \n",
      " 3   arrival_date_year               118898 non-null  int64  \n",
      " 4   arrival_date_month              118898 non-null  object \n",
      " 5   arrival_date_week_number        118898 non-null  int64  \n",
      " 6   arrival_date_day_of_month       118898 non-null  int64  \n",
      " 7   stays_in_weekend_nights         118898 non-null  int64  \n",
      " 8   stays_in_week_nights            118898 non-null  int64  \n",
      " 9   adults                          118898 non-null  int64  \n",
      " 10  children                        118898 non-null  float64\n",
      " 11  babies                          118898 non-null  int64  \n",
      " 12  meal                            118898 non-null  object \n",
      " 13  country                         118898 non-null  object \n",
      " 14  market_segment                  118898 non-null  object \n",
      " 15  distribution_channel            118898 non-null  object \n",
      " 16  is_repeated_guest               118898 non-null  int64  \n",
      " 17  previous_cancellations          118898 non-null  int64  \n",
      " 18  previous_bookings_not_canceled  118898 non-null  int64  \n",
      " 19  reserved_room_type              118898 non-null  object \n",
      " 20  assigned_room_type              118898 non-null  object \n",
      " 21  booking_changes                 118898 non-null  int64  \n",
      " 22  deposit_type                    118898 non-null  object \n",
      " 23  days_in_waiting_list            118898 non-null  int64  \n",
      " 24  customer_type                   118898 non-null  object \n",
      " 25  adr                             118898 non-null  float64\n",
      " 26  required_car_parking_spaces     118898 non-null  int64  \n",
      " 27  total_of_special_requests       118898 non-null  int64  \n",
      " 28  reservation_status              118898 non-null  object \n",
      " 29  reservation_status_date         118898 non-null  object \n",
      "dtypes: float64(2), int64(16), object(12)\n",
      "memory usage: 28.1+ MB\n"
     ]
    }
   ],
   "source": [
    "df.info()"
   ],
   "metadata": {
    "collapsed": false,
    "pycharm": {
     "name": "#%%\n"
    }
   }
  },
  {
   "cell_type": "markdown",
   "source": [
    "### Transformation des variables catégoriques en variables quantitatives"
   ],
   "metadata": {
    "collapsed": false,
    "pycharm": {
     "name": "#%% md\n"
    }
   }
  },
  {
   "cell_type": "code",
   "execution_count": 239,
   "outputs": [],
   "source": [
    "# Conversion grâce à la méthode astype()\n",
    "df['arrival_date_month'] = df['arrival_date_month'].astype('category').cat.codes"
   ],
   "metadata": {
    "collapsed": false,
    "pycharm": {
     "name": "#%%\n"
    }
   }
  },
  {
   "cell_type": "code",
   "execution_count": 240,
   "outputs": [],
   "source": [
    "# Utilisation d'un LabelEncoder\n",
    "\n",
    "le = LE()\n",
    "df['hotel'] = le.fit_transform(df['hotel'])\n",
    "df['country'] = le.fit_transform(df['country'])\n",
    "df['market_segment'] = le.fit_transform(df['market_segment'])\n",
    "df['distribution_channel'] = le.fit_transform(df['distribution_channel'])\n",
    "df['reserved_room_type'] = le.fit_transform(df['reserved_room_type'])\n",
    "df['assigned_room_type'] = le.fit_transform(df['assigned_room_type'])\n",
    "df['deposit_type'] = le.fit_transform(df['deposit_type'])\n",
    "df['customer_type'] = le.fit_transform(df['customer_type'])\n",
    "df['reservation_status'] = le.fit_transform(df['reservation_status'])\n",
    "df['reservation_status_date'] = le.fit_transform(df['reservation_status_date'])"
   ],
   "metadata": {
    "collapsed": false,
    "pycharm": {
     "name": "#%%\n"
    }
   }
  },
  {
   "cell_type": "code",
   "execution_count": 241,
   "outputs": [
    {
     "name": "stdout",
     "output_type": "stream",
     "text": [
      "<class 'pandas.core.frame.DataFrame'>\n",
      "Int64Index: 118898 entries, 0 to 119389\n",
      "Data columns (total 29 columns):\n",
      " #   Column                          Non-Null Count   Dtype  \n",
      "---  ------                          --------------   -----  \n",
      " 0   hotel                           118898 non-null  int64  \n",
      " 1   is_canceled                     118898 non-null  int64  \n",
      " 2   lead_time                       118898 non-null  int64  \n",
      " 3   arrival_date_year               118898 non-null  int64  \n",
      " 4   arrival_date_month              118898 non-null  int8   \n",
      " 5   arrival_date_week_number        118898 non-null  int64  \n",
      " 6   arrival_date_day_of_month       118898 non-null  int64  \n",
      " 7   stays_in_weekend_nights         118898 non-null  int64  \n",
      " 8   stays_in_week_nights            118898 non-null  int64  \n",
      " 9   adults                          118898 non-null  int64  \n",
      " 10  children                        118898 non-null  float64\n",
      " 11  babies                          118898 non-null  int64  \n",
      " 12  country                         118898 non-null  int64  \n",
      " 13  market_segment                  118898 non-null  int64  \n",
      " 14  distribution_channel            118898 non-null  int64  \n",
      " 15  is_repeated_guest               118898 non-null  int64  \n",
      " 16  previous_cancellations          118898 non-null  int64  \n",
      " 17  previous_bookings_not_canceled  118898 non-null  int64  \n",
      " 18  reserved_room_type              118898 non-null  int64  \n",
      " 19  assigned_room_type              118898 non-null  int64  \n",
      " 20  booking_changes                 118898 non-null  int64  \n",
      " 21  deposit_type                    118898 non-null  int64  \n",
      " 22  days_in_waiting_list            118898 non-null  int64  \n",
      " 23  customer_type                   118898 non-null  int64  \n",
      " 24  adr                             118898 non-null  float64\n",
      " 25  required_car_parking_spaces     118898 non-null  int64  \n",
      " 26  total_of_special_requests       118898 non-null  int64  \n",
      " 27  reservation_status              118898 non-null  int64  \n",
      " 28  reservation_status_date         118898 non-null  int64  \n",
      "dtypes: float64(2), int64(26), int8(1)\n",
      "memory usage: 26.4 MB\n"
     ]
    }
   ],
   "source": [
    "# Suppression de la colonne meal car non-pertinente pour l'objectif voulu\n",
    "df = df.drop(columns=['meal'])\n",
    "df.info()"
   ],
   "metadata": {
    "collapsed": false,
    "pycharm": {
     "name": "#%%\n"
    }
   }
  },
  {
   "cell_type": "markdown",
   "source": [
    "Observation de la corrélation des colonnes par rapport à is_canceled"
   ],
   "metadata": {
    "collapsed": false,
    "pycharm": {
     "name": "#%% md\n"
    }
   }
  },
  {
   "cell_type": "code",
   "execution_count": 242,
   "outputs": [
    {
     "data": {
      "text/plain": "reservation_status                0.917223\ndeposit_type                      0.468497\nlead_time                         0.291994\ncountry                           0.270225\ntotal_of_special_requests         0.235643\nrequired_car_parking_spaces       0.194796\nassigned_room_type                0.175880\ndistribution_channel              0.165539\nreservation_status_date           0.162965\nbooking_changes                   0.144659\nhotel                             0.133964\nprevious_cancellations            0.109922\nis_repeated_guest                 0.085179\ncustomer_type                     0.068768\nreserved_room_type                0.062230\nadults                            0.058381\nmarket_segment                    0.056948\nprevious_bookings_not_canceled    0.055493\ndays_in_waiting_list              0.054016\nadr                               0.046199\nbabies                            0.032521\nstays_in_week_nights              0.024110\narrival_date_year                 0.016412\narrival_date_week_number          0.007465\narrival_date_day_of_month         0.006127\nchildren                          0.004751\nstays_in_weekend_nights           0.002631\narrival_date_month                0.001745\nName: is_canceled, dtype: float64"
     },
     "execution_count": 242,
     "metadata": {},
     "output_type": "execute_result"
    }
   ],
   "source": [
    "cancel_corr = df.corr()[\"is_canceled\"]\n",
    "cancel_corr.abs().sort_values(ascending=False)[1:]"
   ],
   "metadata": {
    "collapsed": false,
    "pycharm": {
     "name": "#%%\n"
    }
   }
  },
  {
   "cell_type": "markdown",
   "source": [
    "### Séparation features/target"
   ],
   "metadata": {
    "collapsed": false
   }
  },
  {
   "cell_type": "code",
   "execution_count": 243,
   "outputs": [],
   "source": [
    "y = df['is_canceled']\n",
    "x = df.drop(columns=['is_canceled'])"
   ],
   "metadata": {
    "collapsed": false,
    "pycharm": {
     "name": "#%%\n"
    }
   }
  },
  {
   "cell_type": "markdown",
   "source": [
    "On sépare nos données d'entrainement et de test avec la fonction train_test_split()"
   ],
   "metadata": {
    "collapsed": false,
    "pycharm": {
     "name": "#%% md\n"
    }
   }
  },
  {
   "cell_type": "code",
   "execution_count": 244,
   "outputs": [],
   "source": [
    "splits = train_test_split(x, y, random_state=3, stratify=y)\n",
    "x_tr, x_te, y_tr, y_te = splits"
   ],
   "metadata": {
    "collapsed": false,
    "pycharm": {
     "name": "#%%\n"
    }
   }
  },
  {
   "cell_type": "code",
   "execution_count": 245,
   "outputs": [
    {
     "name": "stdout",
     "output_type": "stream",
     "text": [
      "(89173, 28)\n",
      "(29725, 28)\n",
      "(89173,)\n",
      "(29725,)\n"
     ]
    }
   ],
   "source": [
    "# Vérification de la correspondance des dimension\n",
    "for each in [x_tr, x_te, y_tr, y_te]:\n",
    "    print(each.shape)"
   ],
   "metadata": {
    "collapsed": false,
    "pycharm": {
     "name": "#%%\n"
    }
   }
  },
  {
   "cell_type": "markdown",
   "source": [
    "### Pipeline\n",
    "Création d'une pipeline et d'une GridSearchCV afin de trouver la meilleures accuracy parmis plusieurs algorithme et\n",
    "plusieurs jeux d'hyperparamètres"
   ],
   "metadata": {
    "collapsed": false,
    "pycharm": {
     "name": "#%% md\n"
    }
   }
  },
  {
   "cell_type": "code",
   "execution_count": 246,
   "outputs": [],
   "source": [
    "pipeline_details = [('pca', PCA()),\n",
    "                    ('knn', KNN())]\n",
    "\n",
    "pipeline_svc = [('svc', SVC())]\n",
    "\n",
    "pipeline = Pipeline(pipeline_details)"
   ],
   "metadata": {
    "collapsed": false,
    "pycharm": {
     "name": "#%%\n"
    }
   }
  },
  {
   "cell_type": "code",
   "execution_count": 247,
   "outputs": [],
   "source": [
    "hp_parameters = {'knn__n_neighbors': [1, 3, 5, 9, 21]}\n",
    "hp_parameters_svc = {'svc__kernel': ['linear', 'poly', 'rbf', 'sigmoid']}"
   ],
   "metadata": {
    "collapsed": false,
    "pycharm": {
     "name": "#%%\n"
    }
   }
  },
  {
   "cell_type": "code",
   "execution_count": 248,
   "outputs": [
    {
     "data": {
      "text/plain": "GridSearchCV(cv=5,\n             estimator=Pipeline(steps=[('pca', PCA()),\n                                       ('knn', KNeighborsClassifier())]),\n             param_grid={'knn__n_neighbors': [1, 3, 5, 9, 21]},\n             scoring='accuracy')"
     },
     "execution_count": 248,
     "metadata": {},
     "output_type": "execute_result"
    }
   ],
   "source": [
    "hp_search = GridSearchCV(pipeline,\n",
    "                         hp_parameters,\n",
    "                         scoring='accuracy',\n",
    "                         cv=5)\n",
    "hp_search.fit(x_tr, y_tr)"
   ],
   "metadata": {
    "collapsed": false,
    "pycharm": {
     "name": "#%%\n"
    }
   }
  },
  {
   "cell_type": "code",
   "execution_count": 249,
   "outputs": [],
   "source": [
    "# Not working\n",
    "# hp_search_svc = GridSearchCV(SVC(), hp_parameters_svc, scoring='accuracy', cv=5)\n",
    "# hp_search_svc.fit(x_tr, y_tr)"
   ],
   "metadata": {
    "collapsed": false,
    "pycharm": {
     "name": "#%%\n"
    }
   }
  },
  {
   "cell_type": "code",
   "execution_count": 250,
   "outputs": [
    {
     "data": {
      "text/plain": "0.9005528642665048"
     },
     "execution_count": 250,
     "metadata": {},
     "output_type": "execute_result"
    }
   ],
   "source": [
    "# Affichage du meilleur score trouvé\n",
    "hp_search.best_score_\n"
   ],
   "metadata": {
    "collapsed": false,
    "pycharm": {
     "name": "#%%\n"
    }
   }
  },
  {
   "cell_type": "code",
   "execution_count": 251,
   "outputs": [
    {
     "data": {
      "text/plain": "{'knn__n_neighbors': 1}"
     },
     "execution_count": 251,
     "metadata": {},
     "output_type": "execute_result"
    }
   ],
   "source": [
    "# Affichage de meilleurs paramètres et algo\n",
    "hp_search.best_params_\n"
   ],
   "metadata": {
    "collapsed": false,
    "pycharm": {
     "name": "#%%\n"
    }
   }
  },
  {
   "cell_type": "code",
   "execution_count": 252,
   "outputs": [],
   "source": [
    "# hp_search_svc.best_score_"
   ],
   "metadata": {
    "collapsed": false,
    "pycharm": {
     "name": "#%%\n"
    }
   }
  },
  {
   "cell_type": "markdown",
   "source": [
    "Le résultat de la GridSearchCV nous indique que l'algorithme KNN avec l'hyperparamètre n_neighbors à 1"
   ],
   "metadata": {
    "collapsed": false,
    "pycharm": {
     "name": "#%% md\n"
    }
   }
  },
  {
   "cell_type": "markdown",
   "source": [
    "### Réajustement des features\n",
    "Un peu de feature feature engineering pour essayer d'améliorer le score d'accuracy"
   ],
   "metadata": {
    "collapsed": false
   }
  },
  {
   "cell_type": "code",
   "source": [
    "# Regroupemement des features stays_in_weekend_nights et feature engineering\n",
    "total_nights = df[\"stays_in_weekend_nights\"]+ df[\"stays_in_week_nights\"]\n",
    "\n",
    "df['total_nights'] = total_nights\n",
    "# Regroupement des features adults, children et babies\n",
    "total_people = df['adults'] + df['children'] + df['babies']\n",
    "df['total_people'] = total_people"
   ],
   "metadata": {
    "collapsed": false,
    "pycharm": {
     "name": "#%%\n"
    }
   },
   "execution_count": 253,
   "outputs": []
  },
  {
   "cell_type": "code",
   "execution_count": 254,
   "outputs": [],
   "source": [
    "# On supprime les colonnes qui ont servi aux regroupements\n",
    "df = df.drop(columns=['adults', 'babies', 'children', 'stays_in_week_nights', 'stays_in_weekend_nights', 'deposit_type'])"
   ],
   "metadata": {
    "collapsed": false,
    "pycharm": {
     "name": "#%%\n"
    }
   }
  },
  {
   "cell_type": "code",
   "execution_count": 255,
   "outputs": [
    {
     "name": "stdout",
     "output_type": "stream",
     "text": [
      "<class 'pandas.core.frame.DataFrame'>\n",
      "Int64Index: 118898 entries, 0 to 119389\n",
      "Data columns (total 25 columns):\n",
      " #   Column                          Non-Null Count   Dtype  \n",
      "---  ------                          --------------   -----  \n",
      " 0   hotel                           118898 non-null  int64  \n",
      " 1   is_canceled                     118898 non-null  int64  \n",
      " 2   lead_time                       118898 non-null  int64  \n",
      " 3   arrival_date_year               118898 non-null  int64  \n",
      " 4   arrival_date_month              118898 non-null  int8   \n",
      " 5   arrival_date_week_number        118898 non-null  int64  \n",
      " 6   arrival_date_day_of_month       118898 non-null  int64  \n",
      " 7   country                         118898 non-null  int64  \n",
      " 8   market_segment                  118898 non-null  int64  \n",
      " 9   distribution_channel            118898 non-null  int64  \n",
      " 10  is_repeated_guest               118898 non-null  int64  \n",
      " 11  previous_cancellations          118898 non-null  int64  \n",
      " 12  previous_bookings_not_canceled  118898 non-null  int64  \n",
      " 13  reserved_room_type              118898 non-null  int64  \n",
      " 14  assigned_room_type              118898 non-null  int64  \n",
      " 15  booking_changes                 118898 non-null  int64  \n",
      " 16  days_in_waiting_list            118898 non-null  int64  \n",
      " 17  customer_type                   118898 non-null  int64  \n",
      " 18  adr                             118898 non-null  float64\n",
      " 19  required_car_parking_spaces     118898 non-null  int64  \n",
      " 20  total_of_special_requests       118898 non-null  int64  \n",
      " 21  reservation_status              118898 non-null  int64  \n",
      " 22  reservation_status_date         118898 non-null  int64  \n",
      " 23  total_nights                    118898 non-null  int64  \n",
      " 24  total_people                    118898 non-null  float64\n",
      "dtypes: float64(2), int64(22), int8(1)\n",
      "memory usage: 22.8 MB\n"
     ]
    }
   ],
   "source": [
    "df.info()"
   ],
   "metadata": {
    "collapsed": false,
    "pycharm": {
     "name": "#%%\n"
    }
   }
  },
  {
   "cell_type": "code",
   "execution_count": 256,
   "outputs": [
    {
     "data": {
      "text/plain": "<AxesSubplot:>"
     },
     "execution_count": 256,
     "metadata": {},
     "output_type": "execute_result"
    },
    {
     "data": {
      "text/plain": "<Figure size 432x288 with 2 Axes>",
      "image/png": "[encoded data removed]"
     },
     "metadata": {},
     "output_type": "display_data"
    }
   ],
   "source": [
    "# Revérification de la heatmap de corrélation, on n'observe toujours pas de corrélation particulière\n",
    "new_corr = df.corr()\n",
    "sns.heatmap(new_corr)"
   ],
   "metadata": {
    "collapsed": false,
    "pycharm": {
     "name": "#%%\n"
    }
   }
  },
  {
   "cell_type": "code",
   "execution_count": 257,
   "outputs": [
    {
     "data": {
      "text/plain": "reservation_status                0.917223\nlead_time                         0.291994\ncountry                           0.270225\ntotal_of_special_requests         0.235643\nrequired_car_parking_spaces       0.194796\nassigned_room_type                0.175880\ndistribution_channel              0.165539\nreservation_status_date           0.162965\nbooking_changes                   0.144659\nhotel                             0.133964\nprevious_cancellations            0.109922\nis_repeated_guest                 0.085179\ncustomer_type                     0.068768\nreserved_room_type                0.062230\nmarket_segment                    0.056948\nprevious_bookings_not_canceled    0.055493\ndays_in_waiting_list              0.054016\nadr                               0.046199\ntotal_people                      0.045031\ntotal_nights                      0.016971\narrival_date_year                 0.016412\narrival_date_week_number          0.007465\narrival_date_day_of_month         0.006127\narrival_date_month                0.001745\nName: is_canceled, dtype: float64"
     },
     "execution_count": 257,
     "metadata": {},
     "output_type": "execute_result"
    }
   ],
   "source": [
    "new_cancel_corr = df.corr()[\"is_canceled\"]\n",
    "new_cancel_corr.abs().sort_values(ascending=False)[1:]"
   ],
   "metadata": {
    "collapsed": false,
    "pycharm": {
     "name": "#%%\n"
    }
   }
  },
  {
   "cell_type": "code",
   "execution_count": 258,
   "outputs": [],
   "source": [
    "df = df.drop(columns=['lead_time', 'country'])"
   ],
   "metadata": {
    "collapsed": false,
    "pycharm": {
     "name": "#%%\n"
    }
   }
  },
  {
   "cell_type": "code",
   "execution_count": 259,
   "outputs": [
    {
     "name": "stdout",
     "output_type": "stream",
     "text": [
      "<class 'pandas.core.frame.DataFrame'>\n",
      "Int64Index: 118898 entries, 0 to 119389\n",
      "Data columns (total 23 columns):\n",
      " #   Column                          Non-Null Count   Dtype  \n",
      "---  ------                          --------------   -----  \n",
      " 0   hotel                           118898 non-null  int64  \n",
      " 1   is_canceled                     118898 non-null  int64  \n",
      " 2   arrival_date_year               118898 non-null  int64  \n",
      " 3   arrival_date_month              118898 non-null  int8   \n",
      " 4   arrival_date_week_number        118898 non-null  int64  \n",
      " 5   arrival_date_day_of_month       118898 non-null  int64  \n",
      " 6   market_segment                  118898 non-null  int64  \n",
      " 7   distribution_channel            118898 non-null  int64  \n",
      " 8   is_repeated_guest               118898 non-null  int64  \n",
      " 9   previous_cancellations          118898 non-null  int64  \n",
      " 10  previous_bookings_not_canceled  118898 non-null  int64  \n",
      " 11  reserved_room_type              118898 non-null  int64  \n",
      " 12  assigned_room_type              118898 non-null  int64  \n",
      " 13  booking_changes                 118898 non-null  int64  \n",
      " 14  days_in_waiting_list            118898 non-null  int64  \n",
      " 15  customer_type                   118898 non-null  int64  \n",
      " 16  adr                             118898 non-null  float64\n",
      " 17  required_car_parking_spaces     118898 non-null  int64  \n",
      " 18  total_of_special_requests       118898 non-null  int64  \n",
      " 19  reservation_status              118898 non-null  int64  \n",
      " 20  reservation_status_date         118898 non-null  int64  \n",
      " 21  total_nights                    118898 non-null  int64  \n",
      " 22  total_people                    118898 non-null  float64\n",
      "dtypes: float64(2), int64(20), int8(1)\n",
      "memory usage: 21.0 MB\n"
     ]
    }
   ],
   "source": [
    "df.info()"
   ],
   "metadata": {
    "collapsed": false,
    "pycharm": {
     "name": "#%%\n"
    }
   }
  },
  {
   "cell_type": "markdown",
   "source": [
    "### Tests des modèles avec les nouvelles features"
   ],
   "metadata": {
    "collapsed": false
   }
  },
  {
   "cell_type": "code",
   "execution_count": 260,
   "outputs": [],
   "source": [
    "y = df['is_canceled']\n",
    "x = df.drop(columns=['is_canceled'])"
   ],
   "metadata": {
    "collapsed": false,
    "pycharm": {
     "name": "#%%\n"
    }
   }
  },
  {
   "cell_type": "code",
   "execution_count": 261,
   "outputs": [],
   "source": [
    "x_tr, x_te, y_tr, y_te = train_test_split(x, y, random_state=3, stratify=y, train_size=0.8)"
   ],
   "metadata": {
    "collapsed": false,
    "pycharm": {
     "name": "#%%\n"
    }
   }
  },
  {
   "cell_type": "code",
   "execution_count": 262,
   "outputs": [],
   "source": [
    "pipeline_details = [('pca', PCA()),\n",
    "                    ('knn', KNN())]"
   ],
   "metadata": {
    "collapsed": false,
    "pycharm": {
     "name": "#%%\n"
    }
   }
  },
  {
   "cell_type": "code",
   "execution_count": 263,
   "outputs": [],
   "source": [
    "pipeline = Pipeline(pipeline_details)"
   ],
   "metadata": {
    "collapsed": false,
    "pycharm": {
     "name": "#%%\n"
    }
   }
  },
  {
   "cell_type": "code",
   "execution_count": 264,
   "outputs": [],
   "source": [
    "hp_parameters = {'knn__n_neighbors': [1, 3, 5, 9, 21]}"
   ],
   "metadata": {
    "collapsed": false,
    "pycharm": {
     "name": "#%%\n"
    }
   }
  },
  {
   "cell_type": "code",
   "execution_count": 265,
   "outputs": [
    {
     "data": {
      "text/plain": "GridSearchCV(cv=5,\n             estimator=Pipeline(steps=[('pca', PCA()),\n                                       ('knn', KNeighborsClassifier())]),\n             param_grid={'knn__n_neighbors': [1, 3, 5, 9, 21]},\n             scoring='accuracy')"
     },
     "execution_count": 265,
     "metadata": {},
     "output_type": "execute_result"
    }
   ],
   "source": [
    "hp_search = GridSearchCV(pipeline,\n",
    "                         hp_parameters,\n",
    "                         scoring='accuracy',\n",
    "                         cv=5)\n",
    "hp_search.fit(x_tr, y_tr)"
   ],
   "metadata": {
    "collapsed": false,
    "pycharm": {
     "name": "#%%\n"
    }
   }
  },
  {
   "cell_type": "code",
   "execution_count": 266,
   "outputs": [
    {
     "data": {
      "text/plain": "0.9602914494591491"
     },
     "execution_count": 266,
     "metadata": {},
     "output_type": "execute_result"
    }
   ],
   "source": [
    "hp_search.best_score_\n"
   ],
   "metadata": {
    "collapsed": false,
    "pycharm": {
     "name": "#%%\n"
    }
   }
  },
  {
   "cell_type": "code",
   "execution_count": 267,
   "outputs": [
    {
     "data": {
      "text/plain": "{'knn__n_neighbors': 1}"
     },
     "execution_count": 267,
     "metadata": {},
     "output_type": "execute_result"
    }
   ],
   "source": [
    "hp_search.best_params_"
   ],
   "metadata": {
    "collapsed": false,
    "pycharm": {
     "name": "#%%\n"
    }
   }
  },
  {
   "cell_type": "markdown",
   "source": [
    "On peut voir qu'avec les nouvelles features le score d'accuracy est passé de 90% à 96%"
   ],
   "metadata": {
    "collapsed": false,
    "pycharm": {
     "name": "#%% md\n"
    }
   }
  },
  {
   "cell_type": "markdown",
   "source": [
    "### Construction du modèle"
   ],
   "metadata": {
    "collapsed": false
   }
  },
  {
   "cell_type": "code",
   "execution_count": 268,
   "outputs": [],
   "source": [
    "def get_accuracy(preds, target):\n",
    "    m = target.shape[0] # nombre d'exemples\n",
    "    total_correct = (preds == target).sum()\n",
    "    accuracy = total_correct / m\n",
    "    return str(round(accuracy * 100, 2)) + \"%\""
   ],
   "metadata": {
    "collapsed": false,
    "pycharm": {
     "name": "#%%\n"
    }
   }
  },
  {
   "cell_type": "code",
   "execution_count": 269,
   "outputs": [],
   "source": [
    "knn = KNN(n_neighbors=1)"
   ],
   "metadata": {
    "collapsed": false,
    "pycharm": {
     "name": "#%%\n"
    }
   }
  },
  {
   "cell_type": "code",
   "execution_count": 270,
   "outputs": [
    {
     "data": {
      "text/plain": "KNeighborsClassifier(n_neighbors=1)"
     },
     "execution_count": 270,
     "metadata": {},
     "output_type": "execute_result"
    }
   ],
   "source": [
    "knn.fit(x_tr, y_tr)"
   ],
   "metadata": {
    "collapsed": false,
    "pycharm": {
     "name": "#%%\n"
    }
   }
  },
  {
   "cell_type": "code",
   "execution_count": 271,
   "outputs": [],
   "source": [
    "preds = knn.predict(x_te)"
   ],
   "metadata": {
    "collapsed": false,
    "pycharm": {
     "name": "#%%\n"
    }
   }
  },
  {
   "cell_type": "code",
   "execution_count": 272,
   "outputs": [
    {
     "data": {
      "text/plain": "'96.47%'"
     },
     "execution_count": 272,
     "metadata": {},
     "output_type": "execute_result"
    }
   ],
   "source": [
    "get_accuracy(preds, y_te)"
   ],
   "metadata": {
    "collapsed": false,
    "pycharm": {
     "name": "#%%\n"
    }
   }
  },
  {
   "cell_type": "markdown",
   "source": [
    "### Création d'un PCA"
   ],
   "metadata": {
    "collapsed": false,
    "pycharm": {
     "name": "#%% md\n"
    }
   }
  },
  {
   "cell_type": "code",
   "execution_count": 273,
   "outputs": [
    {
     "data": {
      "text/plain": "PCA()"
     },
     "execution_count": 273,
     "metadata": {},
     "output_type": "execute_result"
    }
   ],
   "source": [
    "pca = PCA()\n",
    "pca.fit(x_tr)"
   ],
   "metadata": {
    "collapsed": false,
    "pycharm": {
     "name": "#%%\n"
    }
   }
  },
  {
   "cell_type": "code",
   "execution_count": 274,
   "outputs": [],
   "source": [
    "x_tr_pca = pca.transform(x_tr)\n",
    "x_te_pca = pca.transform(x_te)"
   ],
   "metadata": {
    "collapsed": false,
    "pycharm": {
     "name": "#%%\n"
    }
   }
  },
  {
   "cell_type": "code",
   "execution_count": 275,
   "outputs": [
    {
     "name": "stderr",
     "output_type": "stream",
     "text": [
      "/home/vincent/.local/share/virtualenvs/ML-Hotel-booking-6ZvzLYAR/lib/python3.8/site-packages/seaborn/_decorators.py:36: FutureWarning: Pass the following variables as keyword args: x, y. From version 0.12, the only valid positional argument will be `data`, and passing other arguments without an explicit keyword will result in an error or misinterpretation.\n",
      "  warnings.warn(\n"
     ]
    },
    {
     "data": {
      "text/plain": "Text(0.5, 1.0, 'Graphe pour choisir le nombre de PC')"
     },
     "execution_count": 275,
     "metadata": {},
     "output_type": "execute_result"
    },
    {
     "data": {
      "text/plain": "<Figure size 432x288 with 1 Axes>",
      "image/png": "[encoded data removed]"
     },
     "metadata": {},
     "output_type": "display_data"
    }
   ],
   "source": [
    "cumsum = np.cumsum(pca.explained_variance_ratio_)\n",
    "sns.lineplot([i for i in range(1, len(cumsum) + 1)], cumsum)\n",
    "plt.xlabel('Nombre de composante principale gardée')\n",
    "plt.ylabel('Cumulative Explained Variance Ratio') # Ratio d'Informations (==variance) Conservees\n",
    "plt.title('Graphe pour choisir le nombre de PC')"
   ],
   "metadata": {
    "collapsed": false,
    "pycharm": {
     "name": "#%%\n"
    }
   }
  },
  {
   "cell_type": "code",
   "execution_count": 276,
   "outputs": [],
   "source": [
    "pca = PCA(n_components=5)\n",
    "pca.fit(x_tr)\n",
    "x_tr_PCA = pca.transform(x_tr)\n",
    "x_te_PCA = pca.transform(x_te)"
   ],
   "metadata": {
    "collapsed": false,
    "pycharm": {
     "name": "#%%\n"
    }
   }
  },
  {
   "cell_type": "code",
   "execution_count": 277,
   "outputs": [
    {
     "data": {
      "text/plain": "KNeighborsClassifier(n_neighbors=1)"
     },
     "execution_count": 277,
     "metadata": {},
     "output_type": "execute_result"
    }
   ],
   "source": [
    "knn = KNN(n_neighbors=1)\n",
    "knn.fit(x_tr_PCA, y_tr)"
   ],
   "metadata": {
    "collapsed": false,
    "pycharm": {
     "name": "#%%\n"
    }
   }
  },
  {
   "cell_type": "code",
   "execution_count": 278,
   "outputs": [
    {
     "data": {
      "text/plain": "'96.1%'"
     },
     "execution_count": 278,
     "metadata": {},
     "output_type": "execute_result"
    }
   ],
   "source": [
    "preds = knn.predict(x_te_PCA)\n",
    "get_accuracy(preds, y_te)"
   ],
   "metadata": {
    "collapsed": false,
    "pycharm": {
     "name": "#%%\n"
    }
   }
  },
  {
   "cell_type": "markdown",
   "source": [
    "### Confusion matrix"
   ],
   "metadata": {
    "collapsed": false
   }
  },
  {
   "cell_type": "code",
   "execution_count": 279,
   "outputs": [
    {
     "data": {
      "text/plain": "KNeighborsClassifier(n_neighbors=1)"
     },
     "execution_count": 279,
     "metadata": {},
     "output_type": "execute_result"
    }
   ],
   "source": [
    "knn.fit(x_tr, y_tr)"
   ],
   "metadata": {
    "collapsed": false,
    "pycharm": {
     "name": "#%%\n"
    }
   }
  },
  {
   "cell_type": "code",
   "execution_count": 280,
   "outputs": [],
   "source": [
    "def show_cm(cm, labels):\n",
    "    df_cm = pd.DataFrame(cm, labels, labels)\n",
    "    sns.heatmap(df_cm, annot=True)\n",
    "    plt.show()"
   ],
   "metadata": {
    "collapsed": false,
    "pycharm": {
     "name": "#%%\n"
    }
   }
  },
  {
   "cell_type": "code",
   "execution_count": 281,
   "outputs": [
    {
     "data": {
      "text/plain": "(23780,)"
     },
     "execution_count": 281,
     "metadata": {},
     "output_type": "execute_result"
    }
   ],
   "source": [
    "y_preds = knn.predict(x_te)\n",
    "y_preds.shape"
   ],
   "metadata": {
    "collapsed": false,
    "pycharm": {
     "name": "#%%\n"
    }
   }
  },
  {
   "cell_type": "code",
   "execution_count": 282,
   "outputs": [
    {
     "data": {
      "text/plain": "<Figure size 432x288 with 2 Axes>",
      "image/png": "[encoded data removed]"
     },
     "metadata": {},
     "output_type": "display_data"
    },
    {
     "name": "stdout",
     "output_type": "stream",
     "text": [
      "Accuracy : 0.9646761984861227\n"
     ]
    }
   ],
   "source": [
    "cm_train = confusion_matrix(y_preds, y_te, labels=[0,1])\n",
    "show_cm(cm_train, [0,1])\n",
    "#Accuracy du training\n",
    "accuracy = lambda p, y : (p==y).sum()/len(y)\n",
    "print('Accuracy : {}'.format(accuracy(y_preds, y_te)))"
   ],
   "metadata": {
    "collapsed": false,
    "pycharm": {
     "name": "#%%\n"
    }
   }
  },
  {
   "cell_type": "markdown",
   "source": [
    "### ROC / AUC"
   ],
   "metadata": {
    "collapsed": false,
    "pycharm": {
     "name": "#%% md\n"
    }
   }
  },
  {
   "cell_type": "code",
   "execution_count": 298,
   "outputs": [],
   "source": [
    "proba = knn.predict_proba(x_tr)\n",
    "proba1 = knn.predict_proba(x_te)\n",
    "n_classes = 2\n",
    "fpr = dict()\n",
    "tpr = dict()\n",
    "roc_auc = dict()"
   ],
   "metadata": {
    "collapsed": false,
    "pycharm": {
     "name": "#%%\n"
    }
   }
  },
  {
   "cell_type": "code",
   "execution_count": 312,
   "outputs": [],
   "source": [
    "try:\n",
    "    for i in range(n_classes):\n",
    "        fpr[i], tpr[i], _ = roc_curve(y_te, proba1[:, i])\n",
    "        roc_auc[i] = auc(fpr[i], tpr[i])\n",
    "except ValueError as err:\n",
    "    print(err)"
   ],
   "metadata": {
    "collapsed": false,
    "pycharm": {
     "name": "#%%\n"
    }
   }
  },
  {
   "cell_type": "code",
   "execution_count": 313,
   "outputs": [],
   "source": [
    "fpr[\"micro\"], tpr[\"micro\"], _ = roc_curve(y_te.ravel(), proba1[:, i].ravel())\n",
    "roc_auc[\"micro\"] = auc(fpr[\"micro\"], tpr[\"micro\"])"
   ],
   "metadata": {
    "collapsed": false,
    "pycharm": {
     "name": "#%%\n"
    }
   }
  },
  {
   "cell_type": "code",
   "execution_count": 314,
   "outputs": [
    {
     "data": {
      "text/plain": "<Figure size 432x288 with 0 Axes>"
     },
     "metadata": {},
     "output_type": "display_data"
    }
   ],
   "source": [
    "plt.figure()\n",
    "lw = 2"
   ],
   "metadata": {
    "collapsed": false,
    "pycharm": {
     "name": "#%%\n"
    }
   }
  },
  {
   "cell_type": "code",
   "execution_count": 315,
   "outputs": [
    {
     "data": {
      "text/plain": "<Figure size 432x288 with 1 Axes>",
      "image/png": "[encoded data removed]"
     },
     "metadata": {},
     "output_type": "display_data"
    }
   ],
   "source": [
    "plt.plot(fpr[1], tpr[1], color='darkorange', lw=lw, label='ROC curve (area = %0.2f)' % roc_auc[1])\n",
    "plt.plot([0, 1], [0, 1], color='navy', lw=lw, linestyle='--')\n",
    "plt.xlim([0.0, 1.0])\n",
    "plt.ylim([0.0, 1.05])\n",
    "plt.xlabel('False Positive Rate')\n",
    "plt.ylabel('True Positive Rate')\n",
    "plt.title('Receiver operating characteristic example')\n",
    "plt.legend(loc=\"lower right\")\n",
    "plt.show()"
   ],
   "metadata": {
    "collapsed": false,
    "pycharm": {
     "name": "#%%\n"
    }
   }
  },
  {
   "cell_type": "code",
   "execution_count": 304,
   "outputs": [],
   "source": [
    "try:\n",
    "    for i in range(n_classes):\n",
    "        fpr[i], tpr[i], _ = roc_curve(y_tr, proba[:, i])\n",
    "        roc_auc[i] = auc(fpr[i], tpr[i])\n",
    "except ValueError as err:\n",
    "    print(err)"
   ],
   "metadata": {
    "collapsed": false,
    "pycharm": {
     "name": "#%%\n"
    }
   }
  },
  {
   "cell_type": "code",
   "execution_count": 305,
   "outputs": [],
   "source": [
    "fpr[\"micro\"], tpr[\"micro\"], _ = roc_curve(y_tr.ravel(), proba[:, i].ravel())\n",
    "roc_auc[\"micro\"] = auc(fpr[\"micro\"], tpr[\"micro\"])"
   ],
   "metadata": {
    "collapsed": false,
    "pycharm": {
     "name": "#%%\n"
    }
   }
  },
  {
   "cell_type": "code",
   "execution_count": 306,
   "outputs": [
    {
     "data": {
      "text/plain": "<Figure size 432x288 with 1 Axes>",
      "image/png": "[encoded data removed]"
     },
     "metadata": {},
     "output_type": "display_data"
    }
   ],
   "source": [
    "plt.figure()\n",
    "lw = 2\n",
    "plt.plot(fpr[1], tpr[1], color='darkorange', lw=lw, label='ROC curve (area = %0.2f)' % roc_auc[1])\n",
    "plt.plot([0, 1], [0, 1], color='navy', lw=lw, linestyle='--')\n",
    "plt.xlim([0.0, 1.0])\n",
    "plt.ylim([0.0, 1.05])\n",
    "plt.xlabel('False Positive Rate')\n",
    "plt.ylabel('True Positive Rate')\n",
    "plt.title('Receiver operating characteristic example')\n",
    "plt.legend(loc=\"lower right\")\n",
    "plt.show()"
   ],
   "metadata": {
    "collapsed": false,
    "pycharm": {
     "name": "#%%\n"
    }
   }
  }
 ],
 "metadata": {
  "kernelspec": {
   "name": "pycharm-513eca3f",
   "language": "python",
   "display_name": "PyCharm (ML-Hotel-booking)"
  },
  "language_info": {
   "codemirror_mode": {
    "name": "ipython",
    "version": 2
   },
   "file_extension": ".py",
   "mimetype": "text/x-python",
   "name": "python",
   "nbconvert_exporter": "python",
   "pygments_lexer": "ipython2",
   "version": "2.7.6"
  }
 },
 "nbformat": 4,
 "nbformat_minor": 0
}